{
 "cells": [
  {
   "attachments": {
    "logo.png": {
     "image/png": "[encoded data removed]"
    }
   },
   "cell_type": "markdown",
   "id": "twelve-offset",
   "metadata": {},
   "source": [
    "![logo.png](attachment:logo.png)"
   ]
  },
  {
   "cell_type": "markdown",
   "id": "smoking-bench",
   "metadata": {},
   "source": [
    "# Shriyanshi Baranwal - Data Science and Business Analytics Intern @ The Sparks Foundation"
   ]
  },
  {
   "cell_type": "markdown",
   "id": "congressional-anniversary",
   "metadata": {},
   "source": [
    "# Task 1:- To Predict the percentage of a student based on the number of study hours."
   ]
  },
  {
   "cell_type": "markdown",
   "id": "complicated-premium",
   "metadata": {},
   "source": [
    "# Objective :- What will be predicted score if a student studies for 9.25 hrs/ day?"
   ]
  },
  {
   "cell_type": "markdown",
   "id": "religious-pocket",
   "metadata": {},
   "source": [
    "# Importing Libraries"
   ]
  },
  {
   "cell_type": "code",
   "execution_count": 1,
   "id": "scientific-thread",
   "metadata": {},
   "outputs": [],
   "source": [
    "import pandas as pd\n",
    "import numpy as np\n",
    "import seaborn as sns\n",
    "import matplotlib.pyplot as plt\n",
    "from sklearn.model_selection import train_test_split\n",
    "from sklearn.linear_model import LinearRegression\n",
    "from sklearn import metrics"
   ]
  },
  {
   "cell_type": "code",
   "execution_count": 2,
   "id": "violent-tanzania",
   "metadata": {},
   "outputs": [],
   "source": [
    "link=\"http://bit.ly/w-data\"\n",
    "data=pd.read_csv(link)"
   ]
  },
  {
   "cell_type": "code",
   "execution_count": 3,
   "id": "adult-exploration",
   "metadata": {},
   "outputs": [
    {
     "data": {
      "text/html": [
       "<div>\n",
       "<style scoped>\n",
       "    .dataframe tbody tr th:only-of-type {\n",
       "        vertical-align: middle;\n",
       "    }\n",
       "\n",
       "    .dataframe tbody tr th {\n",
       "        vertical-align: top;\n",
       "    }\n",
       "\n",
       "    .dataframe thead th {\n",
       "        text-align: right;\n",
       "    }\n",
       "</style>\n",
       "<table border=\"1\" class=\"dataframe\">\n",
       "  <thead>\n",
       "    <tr style=\"text-align: right;\">\n",
       "      <th></th>\n",
       "      <th>Hours</th>\n",
       "      <th>Scores</th>\n",
       "    </tr>\n",
       "  </thead>\n",
       "  <tbody>\n",
       "    <tr>\n",
       "      <th>0</th>\n",
       "      <td>2.5</td>\n",
       "      <td>21</td>\n",
       "    </tr>\n",
       "    <tr>\n",
       "      <th>1</th>\n",
       "      <td>5.1</td>\n",
       "      <td>47</td>\n",
       "    </tr>\n",
       "    <tr>\n",
       "      <th>2</th>\n",
       "      <td>3.2</td>\n",
       "      <td>27</td>\n",
       "    </tr>\n",
       "  </tbody>\n",
       "</table>\n",
       "</div>"
      ],
      "text/plain": [
       "   Hours  Scores\n",
       "0    2.5      21\n",
       "1    5.1      47\n",
       "2    3.2      27"
      ]
     },
     "execution_count": 3,
     "metadata": {},
     "output_type": "execute_result"
    }
   ],
   "source": [
    "data.head(3)"
   ]
  },
  {
   "cell_type": "code",
   "execution_count": 4,
   "id": "gross-grade",
   "metadata": {},
   "outputs": [
    {
     "data": {
      "text/html": [
       "<div>\n",
       "<style scoped>\n",
       "    .dataframe tbody tr th:only-of-type {\n",
       "        vertical-align: middle;\n",
       "    }\n",
       "\n",
       "    .dataframe tbody tr th {\n",
       "        vertical-align: top;\n",
       "    }\n",
       "\n",
       "    .dataframe thead th {\n",
       "        text-align: right;\n",
       "    }\n",
       "</style>\n",
       "<table border=\"1\" class=\"dataframe\">\n",
       "  <thead>\n",
       "    <tr style=\"text-align: right;\">\n",
       "      <th></th>\n",
       "      <th>Hours</th>\n",
       "      <th>Scores</th>\n",
       "    </tr>\n",
       "  </thead>\n",
       "  <tbody>\n",
       "    <tr>\n",
       "      <th>count</th>\n",
       "      <td>25.000000</td>\n",
       "      <td>25.000000</td>\n",
       "    </tr>\n",
       "    <tr>\n",
       "      <th>mean</th>\n",
       "      <td>5.012000</td>\n",
       "      <td>51.480000</td>\n",
       "    </tr>\n",
       "    <tr>\n",
       "      <th>std</th>\n",
       "      <td>2.525094</td>\n",
       "      <td>25.286887</td>\n",
       "    </tr>\n",
       "    <tr>\n",
       "      <th>min</th>\n",
       "      <td>1.100000</td>\n",
       "      <td>17.000000</td>\n",
       "    </tr>\n",
       "    <tr>\n",
       "      <th>25%</th>\n",
       "      <td>2.700000</td>\n",
       "      <td>30.000000</td>\n",
       "    </tr>\n",
       "    <tr>\n",
       "      <th>50%</th>\n",
       "      <td>4.800000</td>\n",
       "      <td>47.000000</td>\n",
       "    </tr>\n",
       "    <tr>\n",
       "      <th>75%</th>\n",
       "      <td>7.400000</td>\n",
       "      <td>75.000000</td>\n",
       "    </tr>\n",
       "    <tr>\n",
       "      <th>max</th>\n",
       "      <td>9.200000</td>\n",
       "      <td>95.000000</td>\n",
       "    </tr>\n",
       "  </tbody>\n",
       "</table>\n",
       "</div>"
      ],
      "text/plain": [
       "           Hours     Scores\n",
       "count  25.000000  25.000000\n",
       "mean    5.012000  51.480000\n",
       "std     2.525094  25.286887\n",
       "min     1.100000  17.000000\n",
       "25%     2.700000  30.000000\n",
       "50%     4.800000  47.000000\n",
       "75%     7.400000  75.000000\n",
       "max     9.200000  95.000000"
      ]
     },
     "execution_count": 4,
     "metadata": {},
     "output_type": "execute_result"
    }
   ],
   "source": [
    "data.describe()"
   ]
  },
  {
   "cell_type": "code",
   "execution_count": 5,
   "id": "optimum-charlotte",
   "metadata": {},
   "outputs": [
    {
     "name": "stdout",
     "output_type": "stream",
     "text": [
      "Shape of variable x is (25,) and y is (25,).\n"
     ]
    }
   ],
   "source": [
    "x=data.iloc[:,0].values\n",
    "y=data.iloc[:,1].values\n",
    "print(\"Shape of variable x is {} and y is {}.\".format(x.shape,y.shape))"
   ]
  },
  {
   "cell_type": "markdown",
   "id": "emerging-guard",
   "metadata": {},
   "source": [
    "# Visualization"
   ]
  },
  {
   "cell_type": "code",
   "execution_count": 6,
   "id": "fatty-anime",
   "metadata": {},
   "outputs": [
    {
     "data": {
      "image/png": "[encoded data removed]",
      "text/plain": [
       "<Figure size 432x288 with 1 Axes>"
      ]
     },
     "metadata": {
      "needs_background": "light"
     },
     "output_type": "display_data"
    }
   ],
   "source": [
    "plt.scatter(x,y,color='red')\n",
    "plt.xlabel('Number of hours')\n",
    "plt.ylabel('Relevant scores')\n",
    "plt.title('Hours vs Scores')\n",
    "plt.show()"
   ]
  },
  {
   "cell_type": "code",
   "execution_count": 7,
   "id": "focal-honor",
   "metadata": {},
   "outputs": [],
   "source": [
    "x_train,x_test,y_train,y_test=train_test_split(x, y, test_size = 0.2, random_state = 1)\n"
   ]
  },
  {
   "cell_type": "code",
   "execution_count": 8,
   "id": "broken-guess",
   "metadata": {},
   "outputs": [
    {
     "name": "stdout",
     "output_type": "stream",
     "text": [
      "20\n",
      "(20,)\n"
     ]
    }
   ],
   "source": [
    "print(len(x_train))\n",
    "print(y_train.shape)"
   ]
  },
  {
   "cell_type": "markdown",
   "id": "former-shock",
   "metadata": {},
   "source": [
    "# Training"
   ]
  },
  {
   "cell_type": "code",
   "execution_count": 9,
   "id": "conscious-penguin",
   "metadata": {},
   "outputs": [
    {
     "name": "stdout",
     "output_type": "stream",
     "text": [
      "training done\n",
      "[10.46110829]\n",
      "-1.5369573315500702\n"
     ]
    }
   ],
   "source": [
    "le=LinearRegression()\n",
    "le.fit(x_train.reshape(-1,1),y_train)\n",
    "print(\"training done\")\n",
    "print(le.coef_)\n",
    "print(le.intercept_)"
   ]
  },
  {
   "cell_type": "code",
   "execution_count": 10,
   "id": "developed-service",
   "metadata": {},
   "outputs": [],
   "source": [
    "line=le.coef_*x_train+le.intercept_\n"
   ]
  },
  {
   "cell_type": "code",
   "execution_count": 11,
   "id": "significant-vegetation",
   "metadata": {},
   "outputs": [
    {
     "data": {
      "image/png": "[encoded data removed]",
      "text/plain": [
       "<Figure size 432x288 with 1 Axes>"
      ]
     },
     "metadata": {
      "needs_background": "light"
     },
     "output_type": "display_data"
    }
   ],
   "source": [
    "plt.scatter(x_train,y_train,color='red')\n",
    "plt.plot(x_train, line, color = 'blue')\n",
    "plt.xlabel('Number of hours')\n",
    "plt.ylabel('Relevant scores')\n",
    "plt.title('Hours vs Scores')\n",
    "plt.show()"
   ]
  },
  {
   "cell_type": "markdown",
   "id": "thorough-pharmaceutical",
   "metadata": {},
   "source": [
    "# Testing"
   ]
  },
  {
   "cell_type": "code",
   "execution_count": 12,
   "id": "perfect-accordance",
   "metadata": {},
   "outputs": [
    {
     "name": "stdout",
     "output_type": "stream",
     "text": [
      "[ 9.97026179 32.98470004 18.33914843 87.38246316 48.67636248]\n"
     ]
    }
   ],
   "source": [
    "y_pred=le.predict(x_test.reshape(-1,1))\n",
    "print(y_pred)"
   ]
  },
  {
   "cell_type": "code",
   "execution_count": 13,
   "id": "nuclear-wedding",
   "metadata": {},
   "outputs": [
    {
     "data": {
      "image/png": "[encoded data removed]",
      "text/plain": [
       "<Figure size 432x288 with 1 Axes>"
      ]
     },
     "metadata": {
      "needs_background": "light"
     },
     "output_type": "display_data"
    }
   ],
   "source": [
    "plt.scatter(x_test.reshape(-1,1), y_test, color = 'red')\n",
    "plt.plot(x_test, le.predict(x_test.reshape(-1,1)), color = 'blue')\n",
    "plt.title('Hours vs Percentage (Testing set)')\n",
    "plt.xlabel('Hours of study')\n",
    "plt.ylabel('Total percentage')\n",
    "plt.show()\n"
   ]
  },
  {
   "cell_type": "markdown",
   "id": "accompanied-ontario",
   "metadata": {},
   "source": [
    "# Data Evaluation"
   ]
  },
  {
   "cell_type": "code",
   "execution_count": 14,
   "id": "sealed-myrtle",
   "metadata": {},
   "outputs": [
    {
     "name": "stdout",
     "output_type": "stream",
     "text": [
      "Mean Squared Error: 68.88092074277635\n"
     ]
    }
   ],
   "source": [
    "print ('Mean Squared Error:',metrics.mean_squared_error(y_test,y_pred))"
   ]
  },
  {
   "cell_type": "code",
   "execution_count": 15,
   "id": "confidential-afternoon",
   "metadata": {},
   "outputs": [
    {
     "name": "stdout",
     "output_type": "stream",
     "text": [
      "The R square of my model is: 0.8421031525243527\n"
     ]
    }
   ],
   "source": [
    "print(\"The R square of my model is:\",metrics.r2_score(y_test,y_pred))"
   ]
  },
  {
   "cell_type": "markdown",
   "id": "incoming-award",
   "metadata": {},
   "source": [
    "# Result"
   ]
  },
  {
   "cell_type": "code",
   "execution_count": 16,
   "id": "lucky-doubt",
   "metadata": {},
   "outputs": [
    {
     "name": "stdout",
     "output_type": "stream",
     "text": [
      "[97.84357146]\n"
     ]
    }
   ],
   "source": [
    "y_result=le.predict(np.array(9.5).reshape(-1,1))\n",
    "print(y_result)"
   ]
  },
  {
   "cell_type": "code",
   "execution_count": 17,
   "id": "enormous-minneapolis",
   "metadata": {},
   "outputs": [
    {
     "name": "stdout",
     "output_type": "stream",
     "text": [
      "If a student studies for 9.5 hrs/day then its score would be [97.84357146]\n"
     ]
    }
   ],
   "source": [
    "print(\"If a student studies for 9.5 hrs/day then its score would be\",y_result)\n"
   ]
  },
  {
   "cell_type": "code",
   "execution_count": null,
   "id": "dynamic-demographic",
   "metadata": {},
   "outputs": [],
   "source": []
  }
 ],
 "metadata": {
  "kernelspec": {
   "display_name": "Python 3",
   "language": "python",
   "name": "python3"
  },
  "language_info": {
   "codemirror_mode": {
    "name": "ipython",
    "version": 3
   },
   "file_extension": ".py",
   "mimetype": "text/x-python",
   "name": "python",
   "nbconvert_exporter": "python",
   "pygments_lexer": "ipython3",
   "version": "3.8.5"
  }
 },
 "nbformat": 4,
 "nbformat_minor": 5
}
